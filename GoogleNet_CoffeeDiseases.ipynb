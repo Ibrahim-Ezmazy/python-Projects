{
  "nbformat": 4,
  "nbformat_minor": 0,
  "metadata": {
    "colab": {
      "provenance": [],
      "authorship_tag": "ABX9TyP/XaADx18AqD3IzTiWA90H",
      "include_colab_link": true
    },
    "kernelspec": {
      "name": "python3",
      "display_name": "Python 3"
    },
    "language_info": {
      "name": "python"
    }
  },
  "cells": [
    {
      "cell_type": "markdown",
      "metadata": {
        "id": "view-in-github",
        "colab_type": "text"
      },
      "source": [
        "<a href=\"https://colab.research.google.com/github/Ibrahim-Ezmazy/python-Projects/blob/main/GoogleNet_CoffeeDiseases.ipynb\" target=\"_parent\"><img src=\"https://colab.research.google.com/assets/colab-badge.svg\" alt=\"Open In Colab\"/></a>"
      ]
    },
    {
      "cell_type": "code",
      "source": [
        "import tensorflow as tf\n",
        "from tensorflow.keras.preprocessing.image import ImageDataGenerator\n",
        "from tensorflow.keras.applications import InceptionV3\n",
        "from tensorflow.keras.layers import Dense, GlobalAveragePooling2D\n",
        "from tensorflow.keras.models import Model\n",
        "from sklearn.metrics import confusion_matrix, precision_score, recall_score, f1_score\n"
      ],
      "metadata": {
        "id": "P9PIiSmTOCMr"
      },
      "execution_count": 2,
      "outputs": []
    },
    {
      "cell_type": "code",
      "source": [
        "# Mount Google Drive if needed\n",
        "from google.colab import drive\n",
        "drive.mount('/content/drive')"
      ],
      "metadata": {
        "colab": {
          "base_uri": "https://localhost:8080/"
        },
        "id": "RN54EWmQOYVu",
        "outputId": "64c12857-1b86-4dd2-b44b-c27bcffde908"
      },
      "execution_count": 3,
      "outputs": [
        {
          "output_type": "stream",
          "name": "stdout",
          "text": [
            "Mounted at /content/drive\n"
          ]
        }
      ]
    },
    {
      "cell_type": "code",
      "source": [
        "\n",
        "# Define image data generators\n",
        "train_datagen = ImageDataGenerator(rescale=1./255)\n",
        "val_datagen = ImageDataGenerator(rescale=1./255)\n",
        "\n",
        "# Path to your dataset folders\n",
        "train_data_dir = '/content/drive/MyDrive/training'\n",
        "val_data_dir = '/content/drive/MyDrive/validation'\n"
      ],
      "metadata": {
        "id": "nFJiMpteOEa0"
      },
      "execution_count": 4,
      "outputs": []
    },
    {
      "cell_type": "code",
      "source": [
        "\n",
        "# Define constants\n",
        "batch_size = 20\n",
        "num_classes = 2\n",
        "epochs = 10\n",
        "\n",
        "# Create image generators\n",
        "train_generator = train_datagen.flow_from_directory(\n",
        "        train_data_dir,\n",
        "        target_size=(150, 150),  # GoogleNet input size\n",
        "        batch_size=batch_size,\n",
        "        class_mode='categorical')\n",
        "\n",
        "validation_generator = val_datagen.flow_from_directory(\n",
        "        val_data_dir,\n",
        "        target_size=(150, 150),\n",
        "        batch_size=batch_size,\n",
        "        class_mode='categorical')\n",
        "\n",
        "# Load GoogleNet model\n",
        "base_model = InceptionV3(weights='imagenet', include_top=False)\n",
        "\n",
        "# Add custom layers on top of GoogleNet\n",
        "x = base_model.output\n",
        "x = GlobalAveragePooling2D()(x)\n",
        "predictions = Dense(num_classes, activation='softmax')(x)\n",
        "\n",
        "# Model\n",
        "model = Model(inputs=base_model.input, outputs=predictions)\n",
        "\n",
        "# Freeze the layers in the base model\n",
        "for layer in base_model.layers:\n",
        "    layer.trainable = False\n",
        "\n",
        "# Compile the model\n",
        "model.compile(optimizer='adam', loss='categorical_crossentropy', metrics=['accuracy'])\n"
      ],
      "metadata": {
        "colab": {
          "base_uri": "https://localhost:8080/"
        },
        "id": "phQysE_gOINq",
        "outputId": "2244ddd4-e03f-4e94-bfda-579e21186c9b"
      },
      "execution_count": 6,
      "outputs": [
        {
          "output_type": "stream",
          "name": "stdout",
          "text": [
            "Found 419 images belonging to 2 classes.\n",
            "Found 111 images belonging to 2 classes.\n",
            "Downloading data from https://storage.googleapis.com/tensorflow/keras-applications/inception_v3/inception_v3_weights_tf_dim_ordering_tf_kernels_notop.h5\n",
            "87910968/87910968 [==============================] - 1s 0us/step\n"
          ]
        }
      ]
    },
    {
      "cell_type": "code",
      "source": [
        "\n",
        "# Train the model\n",
        "model.fit(\n",
        "    train_generator,\n",
        "    steps_per_epoch=train_generator.samples // batch_size,\n",
        "    epochs=epochs,\n",
        "    validation_data=validation_generator,\n",
        "    validation_steps=validation_generator.samples // batch_size\n",
        ")\n"
      ],
      "metadata": {
        "colab": {
          "base_uri": "https://localhost:8080/"
        },
        "id": "1EkFPuexOQtA",
        "outputId": "42b5a581-e276-4414-8a5d-e1705494de65"
      },
      "execution_count": 7,
      "outputs": [
        {
          "output_type": "stream",
          "name": "stdout",
          "text": [
            "Epoch 1/10\n",
            "20/20 [==============================] - 182s 9s/step - loss: 0.5186 - accuracy: 0.7243 - val_loss: 0.3549 - val_accuracy: 0.8600\n",
            "Epoch 2/10\n",
            "20/20 [==============================] - 75s 4s/step - loss: 0.1964 - accuracy: 0.9223 - val_loss: 0.1713 - val_accuracy: 0.9500\n",
            "Epoch 3/10\n",
            "20/20 [==============================] - 76s 4s/step - loss: 0.1145 - accuracy: 0.9649 - val_loss: 0.1644 - val_accuracy: 0.9600\n",
            "Epoch 4/10\n",
            "20/20 [==============================] - 76s 4s/step - loss: 0.0907 - accuracy: 0.9825 - val_loss: 0.1427 - val_accuracy: 0.9600\n",
            "Epoch 5/10\n",
            "20/20 [==============================] - 71s 4s/step - loss: 0.0719 - accuracy: 0.9875 - val_loss: 0.1277 - val_accuracy: 0.9700\n",
            "Epoch 6/10\n",
            "20/20 [==============================] - 74s 4s/step - loss: 0.0614 - accuracy: 0.9875 - val_loss: 0.1381 - val_accuracy: 0.9400\n",
            "Epoch 7/10\n",
            "20/20 [==============================] - 80s 4s/step - loss: 0.0626 - accuracy: 0.9825 - val_loss: 0.1251 - val_accuracy: 0.9600\n",
            "Epoch 8/10\n",
            "20/20 [==============================] - 75s 4s/step - loss: 0.0491 - accuracy: 0.9925 - val_loss: 0.1206 - val_accuracy: 0.9600\n",
            "Epoch 9/10\n",
            "20/20 [==============================] - 72s 4s/step - loss: 0.0412 - accuracy: 0.9925 - val_loss: 0.1244 - val_accuracy: 0.9600\n",
            "Epoch 10/10\n",
            "20/20 [==============================] - 83s 4s/step - loss: 0.0388 - accuracy: 0.9950 - val_loss: 0.1225 - val_accuracy: 0.9600\n"
          ]
        },
        {
          "output_type": "execute_result",
          "data": {
            "text/plain": [
              "<keras.src.callbacks.History at 0x7a62f74d5750>"
            ]
          },
          "metadata": {},
          "execution_count": 7
        }
      ]
    },
    {
      "cell_type": "code",
      "execution_count": 8,
      "metadata": {
        "colab": {
          "base_uri": "https://localhost:8080/"
        },
        "id": "54WwuJ80NzML",
        "outputId": "2da58e12-676b-4ceb-e782-3e2d4dc0fc7a"
      },
      "outputs": [
        {
          "output_type": "stream",
          "name": "stdout",
          "text": [
            "6/6 [==============================] - 16s 3s/step - loss: 0.1123 - accuracy: 0.9640\n",
            "Test Accuracy: 0.9639639854431152\n",
            "6/6 [==============================] - 18s 3s/step\n",
            "Confusion Matrix:\n",
            "[[22 26]\n",
            " [26 37]]\n",
            "Precision: 0.5873015873015873\n",
            "Recall: 0.5873015873015873\n",
            "F-score: 0.5873015873015873\n"
          ]
        }
      ],
      "source": [
        "\n",
        "# Evaluate the model\n",
        "evaluation = model.evaluate(validation_generator)\n",
        "print(\"Test Accuracy:\", evaluation[1])\n",
        "\n",
        "# Calculate confusion matrix\n",
        "validation_generator.reset()  # Reset the generator to avoid shuffling issues\n",
        "y_pred = model.predict(validation_generator)\n",
        "y_true = validation_generator.classes\n",
        "y_pred_classes = tf.argmax(y_pred, axis=1)\n",
        "conf_matrix = confusion_matrix(y_true, y_pred_classes)\n",
        "print(\"Confusion Matrix:\")\n",
        "print(conf_matrix)\n",
        "\n",
        "# Calculate precision, recall, and F-score\n",
        "precision = precision_score(y_true, y_pred_classes)\n",
        "recall = recall_score(y_true, y_pred_classes)\n",
        "f_score = f1_score(y_true, y_pred_classes)\n",
        "print(\"Precision:\", precision)\n",
        "print(\"Recall:\", recall)\n",
        "print(\"F-score:\", f_score)\n"
      ]
    }
  ]
}