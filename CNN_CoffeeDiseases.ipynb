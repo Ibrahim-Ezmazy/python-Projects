{
  "cells": [
    {
      "cell_type": "markdown",
      "metadata": {
        "id": "view-in-github",
        "colab_type": "text"
      },
      "source": [
        "<a href=\"https://colab.research.google.com/github/Ibrahim-Ezmazy/python-Projects/blob/main/CNN_CoffeeDiseases.ipynb\" target=\"_parent\"><img src=\"https://colab.research.google.com/assets/colab-badge.svg\" alt=\"Open In Colab\"/></a>"
      ]
    },
    {
      "cell_type": "code",
      "execution_count": null,
      "metadata": {
        "id": "p8LH4m2IMkj-"
      },
      "outputs": [],
      "source": [
        "import tensorflow as tf\n",
        "from tensorflow.keras import layers, models\n",
        "from tensorflow.keras.preprocessing.image import ImageDataGenerator"
      ]
    },
    {
      "cell_type": "code",
      "execution_count": 13,
      "metadata": {
        "colab": {
          "base_uri": "https://localhost:8080/"
        },
        "id": "OTZKnGGR_n2S",
        "outputId": "a439eeab-9c2e-4485-d7eb-b306f337b0b8"
      },
      "outputs": [
        {
          "output_type": "stream",
          "name": "stdout",
          "text": [
            "Mounted at /content/drive\n"
          ]
        }
      ],
      "source": [
        "# Mount Google Drive if needed\n",
        "from google.colab import drive\n",
        "drive.mount('/content/drive')"
      ]
    },
    {
      "cell_type": "code",
      "execution_count": null,
      "metadata": {
        "id": "XCj6GHrF_44z"
      },
      "outputs": [],
      "source": [
        "\n",
        "# Define paths to training and validation data\n",
        "train_dir = '/content/drive/MyDrive/data/train'\n",
        "validation_dir = '/content/drive/MyDrive/data/valid'"
      ]
    },
    {
      "cell_type": "code",
      "execution_count": null,
      "metadata": {
        "colab": {
          "base_uri": "https://localhost:8080/"
        },
        "id": "doh455r_AJfr",
        "outputId": "6abad5bc-d95a-440d-80d3-df62653fbcce"
      },
      "outputs": [
        {
          "name": "stdout",
          "output_type": "stream",
          "text": [
            "Found 539 images belonging to 2 classes.\n",
            "Found 539 images belonging to 2 classes.\n"
          ]
        }
      ],
      "source": [
        "# Data Preprocessing\n",
        "train_datagen = ImageDataGenerator(rescale=1./255)\n",
        "validation_datagen = ImageDataGenerator(rescale=1./255)\n",
        "\n",
        "train_generator = train_datagen.flow_from_directory(\n",
        "        train_dir,\n",
        "        target_size=(150, 150),\n",
        "        batch_size=20,\n",
        "        class_mode='binary')\n",
        "\n",
        "validation_generator = validation_datagen.flow_from_directory(\n",
        "        validation_dir,\n",
        "        target_size=(150, 150),\n",
        "        batch_size=20,\n",
        "        class_mode='binary')\n",
        "\n"
      ]
    },
    {
      "cell_type": "code",
      "execution_count": null,
      "metadata": {
        "id": "ogws_edlAQI9"
      },
      "outputs": [],
      "source": [
        "# Build CNN Model\n",
        "\n",
        "model = models.Sequential([\n",
        "    layers.Conv2D(32, (3, 3), activation='relu', input_shape=(150, 150, 3)),\n",
        "    layers.MaxPooling2D((2, 2)),\n",
        "    layers.Conv2D(64, (3, 3), activation='relu'),\n",
        "    layers.MaxPooling2D((2, 2)),\n",
        "    layers.Conv2D(128, (3, 3), activation='relu'),\n",
        "    layers.MaxPooling2D((2, 2)),\n",
        "    layers.Conv2D(128, (3, 3), activation='relu'),\n",
        "    layers.MaxPooling2D((2, 2)),\n",
        "    layers.Flatten(),\n",
        "    layers.Dense(512, activation='relu'),\n",
        "    layers.Dense(1, activation='sigmoid')\n",
        "])\n"
      ]
    },
    {
      "cell_type": "code",
      "execution_count": null,
      "metadata": {
        "id": "6CNBpvPgAVHs"
      },
      "outputs": [],
      "source": [
        "# Compile Model\n",
        "model.compile(optimizer='adam',\n",
        "              loss='binary_crossentropy',\n",
        "              metrics=['accuracy'])\n"
      ]
    },
    {
      "cell_type": "code",
      "execution_count": null,
      "metadata": {
        "colab": {
          "base_uri": "https://localhost:8080/"
        },
        "id": "i37yATwyAYZ0",
        "outputId": "5f3b4163-8bc4-4591-c281-085e8fa0d493"
      },
      "outputs": [
        {
          "name": "stdout",
          "output_type": "stream",
          "text": [
            "Epoch 1/10\n",
            "27/27 [==============================] - 230s 8s/step - loss: 0.5319 - accuracy: 0.7032 - val_loss: 0.3407 - val_accuracy: 0.8627\n",
            "Epoch 2/10\n",
            "27/27 [==============================] - 143s 5s/step - loss: 0.3386 - accuracy: 0.8701 - val_loss: 0.2881 - val_accuracy: 0.8905\n",
            "Epoch 3/10\n",
            "27/27 [==============================] - 152s 6s/step - loss: 0.3038 - accuracy: 0.8961 - val_loss: 0.2018 - val_accuracy: 0.9314\n",
            "Epoch 4/10\n",
            "27/27 [==============================] - 146s 5s/step - loss: 0.2306 - accuracy: 0.9072 - val_loss: 0.1515 - val_accuracy: 0.9406\n",
            "Epoch 5/10\n",
            "27/27 [==============================] - 164s 6s/step - loss: 0.1325 - accuracy: 0.9481 - val_loss: 0.0856 - val_accuracy: 0.9685\n",
            "Epoch 6/10\n",
            "27/27 [==============================] - 165s 6s/step - loss: 0.1080 - accuracy: 0.9685 - val_loss: 0.1109 - val_accuracy: 0.9536\n",
            "Epoch 7/10\n",
            "27/27 [==============================] - 151s 6s/step - loss: 0.1938 - accuracy: 0.9202 - val_loss: 0.1647 - val_accuracy: 0.9314\n",
            "Epoch 8/10\n",
            "27/27 [==============================] - 143s 5s/step - loss: 0.1469 - accuracy: 0.9462 - val_loss: 0.1433 - val_accuracy: 0.9406\n",
            "Epoch 9/10\n",
            "27/27 [==============================] - 162s 6s/step - loss: 0.0823 - accuracy: 0.9647 - val_loss: 0.0919 - val_accuracy: 0.9647\n",
            "Epoch 10/10\n",
            "27/27 [==============================] - 164s 6s/step - loss: 0.1143 - accuracy: 0.9555 - val_loss: 0.2317 - val_accuracy: 0.8868\n"
          ]
        }
      ],
      "source": [
        "# Train Model\n",
        "# Train Model\n",
        "history = model.fit(\n",
        "      train_generator,\n",
        "      epochs=10,\n",
        "      steps_per_epoch=len(train_generator),\n",
        "      validation_data=validation_generator,\n",
        "      validation_steps=len(validation_generator))\n",
        "\n"
      ]
    },
    {
      "cell_type": "code",
      "execution_count": null,
      "metadata": {
        "colab": {
          "base_uri": "https://localhost:8080/"
        },
        "id": "oaKKfD1vMXad",
        "outputId": "1dcdb5ac-c925-4740-f564-8bcd19c77fa1"
      },
      "outputs": [
        {
          "name": "stdout",
          "output_type": "stream",
          "text": [
            "27/27 [==============================] - 63s 2s/step - loss: 0.2317 - accuracy: 0.8868\n",
            "Validation Loss: 0.23169580101966858\n",
            "Validation Accuracy: 0.8868274688720703\n"
          ]
        }
      ],
      "source": [
        "# Evaluate Model\n",
        "loss, accuracy = model.evaluate(validation_generator)\n",
        "print(\"Validation Loss:\", loss)\n",
        "print(\"Validation Accuracy:\", accuracy)\n"
      ]
    },
    {
      "cell_type": "code",
      "execution_count": null,
      "metadata": {
        "colab": {
          "base_uri": "https://localhost:8080/"
        },
        "id": "8yUUufcWiuu8",
        "outputId": "fa05a54a-8054-4d7e-8f37-6540b8c925ee"
      },
      "outputs": [
        {
          "name": "stdout",
          "output_type": "stream",
          "text": [
            "27/27 [==============================] - 66s 2s/step\n",
            "Confusion Matrix:\n",
            "[[142 112]\n",
            " [173 112]]\n",
            "\n",
            "Precision: 0.5\n",
            "Recall: 0.3929824561403509\n",
            "F-score: 0.4400785854616896\n"
          ]
        }
      ],
      "source": [
        "from sklearn.metrics import confusion_matrix, precision_score, recall_score, f1_score\n",
        "\n",
        "# Predict on validation data\n",
        "y_pred = model.predict(validation_generator).flatten() > 0.5  # Assuming binary classification\n",
        "\n",
        "# True labels\n",
        "y_true = validation_generator.classes\n",
        "\n",
        "# Confusion matrix\n",
        "conf_matrix = confusion_matrix(y_true, y_pred)\n",
        "\n",
        "# True Positives, False Positives, True Negatives, False Negatives\n",
        "TN, FP, FN, TP = conf_matrix.ravel()\n",
        "\n",
        "# Precision, Recall, F-score\n",
        "precision = precision_score(y_true, y_pred)\n",
        "recall = recall_score(y_true, y_pred)\n",
        "f_score = f1_score(y_true, y_pred)\n",
        "\n",
        "print(\"Confusion Matrix:\")\n",
        "print(conf_matrix)\n",
        "print(\"\\nPrecision:\", precision)\n",
        "print(\"Recall:\", recall)\n",
        "print(\"F-score:\", f_score)\n"
      ]
    },
    {
      "cell_type": "markdown",
      "metadata": {
        "id": "1IyNmJUto6p7"
      },
      "source": [
        "--------------------------------------------------------------------------------\n",
        "--------------------------------------------------------------------------------\n",
        "# **RESNET50**"
      ]
    },
    {
      "cell_type": "code",
      "execution_count": 14,
      "metadata": {
        "id": "DO_KO_Lm4H9I"
      },
      "outputs": [],
      "source": [
        "import tensorflow as tf\n",
        "from tensorflow.keras.preprocessing.image import ImageDataGenerator\n",
        "from tensorflow.keras.applications import ResNet50\n",
        "from tensorflow.keras.layers import Dense, GlobalAveragePooling2D\n",
        "from tensorflow.keras.models import Model"
      ]
    },
    {
      "cell_type": "code",
      "execution_count": 15,
      "metadata": {
        "id": "Mr0bm9Xv7ZDB"
      },
      "outputs": [],
      "source": [
        "\n",
        "# Load dataset\n",
        "train_data_dir = '/content/drive/MyDrive/dataset/train'\n",
        "test_data_dir = '/content/drive/MyDrive/dataset/test'\n",
        "\n",
        "img_width, img_height = 155, 155\n",
        "batch_size = 32\n"
      ]
    },
    {
      "cell_type": "code",
      "execution_count": 16,
      "metadata": {
        "colab": {
          "base_uri": "https://localhost:8080/"
        },
        "id": "J_ecE8Ng7brk",
        "outputId": "e01b6cc4-2c48-40f9-f6fe-c5c106baab5c"
      },
      "outputs": [
        {
          "output_type": "stream",
          "name": "stdout",
          "text": [
            "Found 511 images belonging to 2 classes.\n",
            "Found 167 images belonging to 2 classes.\n"
          ]
        }
      ],
      "source": [
        "\n",
        "# Data preprocessing\n",
        "train_datagen = ImageDataGenerator(\n",
        "    rescale=1./255,\n",
        "    shear_range=0.2,\n",
        "    zoom_range=0.2,\n",
        "    horizontal_flip=True)\n",
        "\n",
        "test_datagen = ImageDataGenerator(rescale=1./255)\n",
        "\n",
        "train_generator = train_datagen.flow_from_directory(\n",
        "    train_data_dir,\n",
        "    target_size=(img_width, img_height),\n",
        "    batch_size=batch_size,\n",
        "    class_mode='binary')\n",
        "\n",
        "validation_generator = test_datagen.flow_from_directory(\n",
        "    test_data_dir,\n",
        "    target_size=(img_width, img_height),\n",
        "    batch_size=batch_size,\n",
        "    class_mode='binary')\n",
        "\n"
      ]
    },
    {
      "cell_type": "code",
      "execution_count": 17,
      "metadata": {
        "id": "YpR77C1I7gLV"
      },
      "outputs": [],
      "source": [
        "# Load pre-trained ResNet50 model\n",
        "base_model = ResNet50(weights='imagenet', include_top=False)\n",
        "\n",
        "# Add custom layers for classification\n",
        "x = base_model.output\n",
        "x = GlobalAveragePooling2D()(x)\n",
        "x = Dense(1024, activation='relu')(x)\n",
        "predictions = Dense(1, activation='sigmoid')(x)\n",
        "\n",
        "# Final model\n",
        "model = Model(inputs=base_model.input, outputs=predictions)\n",
        "\n",
        "# Freeze pre-trained layers\n",
        "for layer in base_model.layers:\n",
        "    layer.trainable = False\n"
      ]
    },
    {
      "cell_type": "code",
      "execution_count": 18,
      "metadata": {
        "id": "yTf5Xfy17jba"
      },
      "outputs": [],
      "source": [
        "# Compile the model\n",
        "model.compile(optimizer='adam', loss='binary_crossentropy', metrics=['accuracy'])\n"
      ]
    },
    {
      "cell_type": "code",
      "execution_count": 19,
      "metadata": {
        "colab": {
          "base_uri": "https://localhost:8080/"
        },
        "id": "sNU7ps3w7l36",
        "outputId": "79ecf397-6dbb-4e3d-d328-e38effab721b"
      },
      "outputs": [
        {
          "output_type": "stream",
          "name": "stdout",
          "text": [
            "Epoch 1/10\n",
            "15/15 [==============================] - 248s 16s/step - loss: 0.7480 - accuracy: 0.5637 - val_loss: 0.6853 - val_accuracy: 0.4875\n",
            "Epoch 2/10\n",
            "15/15 [==============================] - 113s 7s/step - loss: 0.6722 - accuracy: 0.5771 - val_loss: 0.5969 - val_accuracy: 0.8687\n",
            "Epoch 3/10\n",
            "15/15 [==============================] - 113s 7s/step - loss: 0.6349 - accuracy: 0.6180 - val_loss: 0.5560 - val_accuracy: 0.8500\n",
            "Epoch 4/10\n",
            "15/15 [==============================] - 126s 8s/step - loss: 0.5908 - accuracy: 0.7704 - val_loss: 0.5165 - val_accuracy: 0.8062\n",
            "Epoch 5/10\n",
            "15/15 [==============================] - 118s 8s/step - loss: 0.5783 - accuracy: 0.7349 - val_loss: 0.5033 - val_accuracy: 0.8562\n",
            "Epoch 6/10\n",
            "15/15 [==============================] - 113s 8s/step - loss: 0.5681 - accuracy: 0.7328 - val_loss: 0.4740 - val_accuracy: 0.7750\n",
            "Epoch 7/10\n",
            "15/15 [==============================] - 127s 8s/step - loss: 0.5618 - accuracy: 0.6848 - val_loss: 0.4141 - val_accuracy: 0.8813\n",
            "Epoch 8/10\n",
            "15/15 [==============================] - 112s 7s/step - loss: 0.5112 - accuracy: 0.7688 - val_loss: 0.4335 - val_accuracy: 0.7937\n",
            "Epoch 9/10\n",
            "15/15 [==============================] - 111s 7s/step - loss: 0.5140 - accuracy: 0.7411 - val_loss: 0.4277 - val_accuracy: 0.8687\n",
            "Epoch 10/10\n",
            "15/15 [==============================] - 118s 8s/step - loss: 0.5006 - accuracy: 0.7808 - val_loss: 0.3810 - val_accuracy: 0.9062\n"
          ]
        },
        {
          "output_type": "execute_result",
          "data": {
            "text/plain": [
              "<keras.src.callbacks.History at 0x79dbe85b7fd0>"
            ]
          },
          "metadata": {},
          "execution_count": 19
        }
      ],
      "source": [
        "\n",
        "# Train the model\n",
        "model.fit(\n",
        "    train_generator,\n",
        "    steps_per_epoch=train_generator.samples // batch_size,\n",
        "    epochs=10,\n",
        "    validation_data=validation_generator,\n",
        "    validation_steps=validation_generator.samples // batch_size)\n"
      ]
    },
    {
      "cell_type": "code",
      "execution_count": 20,
      "metadata": {
        "colab": {
          "base_uri": "https://localhost:8080/"
        },
        "id": "2AmREC2c4Dzs",
        "outputId": "b599de39-26aa-4e70-8f23-c11b93aa8577"
      },
      "outputs": [
        {
          "output_type": "stream",
          "name": "stdout",
          "text": [
            "6/6 [==============================] - 27s 4s/step - loss: 0.3885 - accuracy: 0.9042\n",
            "Test Loss: 0.3884824514389038\n",
            "Test Accuracy: 0.9041916131973267\n"
          ]
        }
      ],
      "source": [
        "\n",
        "\n",
        "# Evaluate the model\n",
        "score = model.evaluate(validation_generator)\n",
        "print(\"Test Loss:\", score[0])\n",
        "print(\"Test Accuracy:\", score[1])\n"
      ]
    },
    {
      "cell_type": "code",
      "source": [
        "from sklearn.metrics import confusion_matrix, precision_score, recall_score, f1_score\n",
        "\n",
        "# Predict on validation data\n",
        "y_pred = model.predict(validation_generator).flatten() > 0.5  # Assuming binary classification\n",
        "\n",
        "# True labels\n",
        "y_true = validation_generator.classes\n",
        "\n",
        "# Confusion matrix\n",
        "conf_matrix = confusion_matrix(y_true, y_pred)\n",
        "\n",
        "# True Positives, False Positives, True Negatives, False Negatives\n",
        "TN, FP, FN, TP = conf_matrix.ravel()\n",
        "\n",
        "# Precision, Recall, F-score\n",
        "precision = precision_score(y_true, y_pred)\n",
        "recall = recall_score(y_true, y_pred)\n",
        "f_score = f1_score(y_true, y_pred)\n",
        "\n",
        "print(\"Confusion Matrix:\")\n",
        "print(conf_matrix)\n",
        "print(\"\\nPrecision:\", precision)\n",
        "print(\"Recall:\", recall)\n",
        "print(\"F-score:\", f_score)\n"
      ],
      "metadata": {
        "colab": {
          "base_uri": "https://localhost:8080/"
        },
        "id": "JllUMyqB22pu",
        "outputId": "a863f90c-31d3-4feb-e383-9752129e0829"
      },
      "execution_count": 27,
      "outputs": [
        {
          "output_type": "stream",
          "name": "stdout",
          "text": [
            "6/6 [==============================] - 35s 5s/step\n",
            "Confusion Matrix:\n",
            "[[53 33]\n",
            " [43 38]]\n",
            "\n",
            "Precision: 0.5352112676056338\n",
            "Recall: 0.4691358024691358\n",
            "F-score: 0.4999999999999999\n"
          ]
        }
      ]
    }
  ],
  "metadata": {
    "colab": {
      "provenance": [],
      "authorship_tag": "ABX9TyPw49ai82UmGRX+Mr9ZqWlW",
      "include_colab_link": true
    },
    "kernelspec": {
      "display_name": "Python 3",
      "name": "python3"
    },
    "language_info": {
      "name": "python"
    }
  },
  "nbformat": 4,
  "nbformat_minor": 0
}