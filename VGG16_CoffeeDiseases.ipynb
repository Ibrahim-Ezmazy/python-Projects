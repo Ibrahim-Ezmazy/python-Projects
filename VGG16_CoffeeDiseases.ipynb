{
  "nbformat": 4,
  "nbformat_minor": 0,
  "metadata": {
    "colab": {
      "provenance": [],
      "authorship_tag": "ABX9TyMHHGv6uHo8iP7bQKCnRDxn",
      "include_colab_link": true
    },
    "kernelspec": {
      "name": "python3",
      "display_name": "Python 3"
    },
    "language_info": {
      "name": "python"
    }
  },
  "cells": [
    {
      "cell_type": "markdown",
      "metadata": {
        "id": "view-in-github",
        "colab_type": "text"
      },
      "source": [
        "<a href=\"https://colab.research.google.com/github/Ibrahim-Ezmazy/python-Projects/blob/main/VGG16_CoffeeDiseases.ipynb\" target=\"_parent\"><img src=\"https://colab.research.google.com/assets/colab-badge.svg\" alt=\"Open In Colab\"/></a>"
      ]
    },
    {
      "cell_type": "code",
      "source": [
        "import tensorflow as tf\n",
        "from tensorflow.keras.preprocessing.image import ImageDataGenerator\n",
        "from tensorflow.keras.applications import VGG16\n",
        "from tensorflow.keras.layers import Dense, GlobalAveragePooling2D\n",
        "from tensorflow.keras.models import Model\n",
        "from sklearn.metrics import confusion_matrix, classification_report\n"
      ],
      "metadata": {
        "id": "hYKG1HRNUcay"
      },
      "execution_count": 2,
      "outputs": []
    },
    {
      "cell_type": "code",
      "execution_count": 1,
      "metadata": {
        "colab": {
          "base_uri": "https://localhost:8080/"
        },
        "id": "Tzr444hmUKbb",
        "outputId": "5087fde2-5a25-4d1f-f783-632332499e8b"
      },
      "outputs": [
        {
          "output_type": "stream",
          "name": "stdout",
          "text": [
            "Mounted at /content/drive\n"
          ]
        }
      ],
      "source": [
        "# Mount Google Drive if needed\n",
        "from google.colab import drive\n",
        "drive.mount('/content/drive')"
      ]
    },
    {
      "cell_type": "code",
      "source": [
        "# Define image data generators\n",
        "train_datagen = ImageDataGenerator(rescale=1./255)\n",
        "val_datagen = ImageDataGenerator(rescale=1./255)\n",
        "\n",
        "# Path to your dataset folders\n",
        "train_data_dir = '/content/drive/MyDrive/training'\n",
        "val_data_dir = '/content/drive/MyDrive/validation'\n"
      ],
      "metadata": {
        "id": "9IsbdBTnVa5R"
      },
      "execution_count": 3,
      "outputs": []
    },
    {
      "cell_type": "code",
      "source": [
        "# Define constants\n",
        "batch_size = 20\n",
        "num_classes = 2\n",
        "epochs = 10\n",
        "\n",
        "# Create image generators\n",
        "train_generator = train_datagen.flow_from_directory(\n",
        "        train_data_dir,\n",
        "        target_size=(150, 150),  # VGG16 input size\n",
        "        batch_size=batch_size,\n",
        "        class_mode='categorical')\n",
        "\n",
        "validation_generator = val_datagen.flow_from_directory(\n",
        "        val_data_dir,\n",
        "        target_size=(150, 150),\n",
        "        batch_size=batch_size,\n",
        "        class_mode='categorical')\n",
        "\n",
        "# Load VGG16 model\n",
        "base_model = VGG16(weights='imagenet', include_top=False)\n",
        "\n",
        "# Add custom layers on top of VGG16\n",
        "x = base_model.output\n",
        "x = GlobalAveragePooling2D()(x)\n",
        "predictions = Dense(num_classes, activation='softmax')(x)\n",
        "\n",
        "# Model\n",
        "model = Model(inputs=base_model.input, outputs=predictions)\n",
        "\n",
        "# Freeze the layers in the base model\n",
        "for layer in base_model.layers:\n",
        "    layer.trainable = False\n",
        "\n",
        "# Compile the model\n",
        "model.compile(optimizer='adam', loss='categorical_crossentropy', metrics=['accuracy'])\n"
      ],
      "metadata": {
        "colab": {
          "base_uri": "https://localhost:8080/"
        },
        "id": "O6Se6rUQVk_w",
        "outputId": "4a1b0ad3-9362-47c4-c9b4-633a3262935e"
      },
      "execution_count": 4,
      "outputs": [
        {
          "output_type": "stream",
          "name": "stdout",
          "text": [
            "Found 419 images belonging to 2 classes.\n",
            "Found 111 images belonging to 2 classes.\n",
            "Downloading data from https://storage.googleapis.com/tensorflow/keras-applications/vgg16/vgg16_weights_tf_dim_ordering_tf_kernels_notop.h5\n",
            "58889256/58889256 [==============================] - 0s 0us/step\n"
          ]
        }
      ]
    },
    {
      "cell_type": "code",
      "source": [
        "# Train the model\n",
        "model.fit(\n",
        "    train_generator,\n",
        "    steps_per_epoch=train_generator.samples // batch_size,\n",
        "    epochs=epochs,\n",
        "    validation_data=validation_generator,\n",
        "    validation_steps=validation_generator.samples // batch_size\n",
        ")\n"
      ],
      "metadata": {
        "colab": {
          "base_uri": "https://localhost:8080/"
        },
        "id": "GfBu9IqQVrsk",
        "outputId": "90728f89-28a2-4716-cfcd-66b041e1cdf0"
      },
      "execution_count": 5,
      "outputs": [
        {
          "output_type": "stream",
          "name": "stdout",
          "text": [
            "Epoch 1/10\n",
            "20/20 [==============================] - 271s 13s/step - loss: 0.6283 - accuracy: 0.6767 - val_loss: 0.5663 - val_accuracy: 0.7900\n",
            "Epoch 2/10\n",
            "20/20 [==============================] - 182s 9s/step - loss: 0.5288 - accuracy: 0.8596 - val_loss: 0.4957 - val_accuracy: 0.8600\n",
            "Epoch 3/10\n",
            "20/20 [==============================] - 225s 11s/step - loss: 0.4650 - accuracy: 0.8872 - val_loss: 0.4373 - val_accuracy: 0.8500\n",
            "Epoch 4/10\n",
            "20/20 [==============================] - 184s 9s/step - loss: 0.4147 - accuracy: 0.9023 - val_loss: 0.3988 - val_accuracy: 0.8800\n",
            "Epoch 5/10\n",
            "20/20 [==============================] - 179s 9s/step - loss: 0.3800 - accuracy: 0.9098 - val_loss: 0.3827 - val_accuracy: 0.8700\n",
            "Epoch 6/10\n",
            "20/20 [==============================] - 188s 9s/step - loss: 0.3472 - accuracy: 0.9173 - val_loss: 0.3464 - val_accuracy: 0.8700\n",
            "Epoch 7/10\n",
            "20/20 [==============================] - 181s 9s/step - loss: 0.3230 - accuracy: 0.9223 - val_loss: 0.3055 - val_accuracy: 0.8900\n",
            "Epoch 8/10\n",
            "20/20 [==============================] - 184s 9s/step - loss: 0.2961 - accuracy: 0.9273 - val_loss: 0.3290 - val_accuracy: 0.8600\n",
            "Epoch 9/10\n",
            "20/20 [==============================] - 192s 10s/step - loss: 0.2831 - accuracy: 0.9273 - val_loss: 0.3042 - val_accuracy: 0.8700\n",
            "Epoch 10/10\n",
            "20/20 [==============================] - 187s 9s/step - loss: 0.2669 - accuracy: 0.9298 - val_loss: 0.2721 - val_accuracy: 0.9000\n"
          ]
        },
        {
          "output_type": "execute_result",
          "data": {
            "text/plain": [
              "<keras.src.callbacks.History at 0x7d35676f8dc0>"
            ]
          },
          "metadata": {},
          "execution_count": 5
        }
      ]
    },
    {
      "cell_type": "code",
      "source": [
        "# Evaluate the model\n",
        "validation_generator.reset()\n",
        "y_pred = model.predict(validation_generator)\n",
        "y_true = validation_generator.classes\n"
      ],
      "metadata": {
        "colab": {
          "base_uri": "https://localhost:8080/"
        },
        "id": "RMz4kBdkVt4V",
        "outputId": "4a35873a-313c-471e-e035-9962f98e9dd1"
      },
      "execution_count": 6,
      "outputs": [
        {
          "output_type": "stream",
          "name": "stdout",
          "text": [
            "6/6 [==============================] - 40s 6s/step\n"
          ]
        }
      ]
    },
    {
      "cell_type": "code",
      "source": [
        "import numpy as np\n",
        "from sklearn.metrics import confusion_matrix, precision_score, recall_score, f1_score\n",
        "evaluation = model.evaluate(validation_generator)\n",
        "# Evaluate the model\n",
        "validation_generator.reset()  # Reset the generator to avoid shuffling issues\n",
        "y_pred = model.predict(validation_generator)\n",
        "y_true = validation_generator.classes\n",
        "\n",
        "# Convert predictions to class labels\n",
        "y_pred_classes = np.argmax(y_pred, axis=1)\n",
        "\n",
        "# Calculate confusion matrix\n",
        "conf_matrix = confusion_matrix(y_true, y_pred_classes)\n",
        "print(\"Confusion Matrix:\")\n",
        "print(conf_matrix)\n",
        "\n",
        "# Calculate precision, recall, and F-score\n",
        "precision = precision_score(y_true, y_pred_classes)\n",
        "recall = recall_score(y_true, y_pred_classes)\n",
        "f_score = f1_score(y_true, y_pred_classes)\n",
        "\n",
        "print(\"Precision:\", precision)\n",
        "print(\"Recall:\", recall)\n",
        "print(\"F-score:\", f_score)\n"
      ],
      "metadata": {
        "colab": {
          "base_uri": "https://localhost:8080/"
        },
        "id": "cAvLV9lyVXTb",
        "outputId": "665344e9-0157-43fe-db92-ed2f39bbe7e9"
      },
      "execution_count": 9,
      "outputs": [
        {
          "output_type": "stream",
          "name": "stdout",
          "text": [
            "6/6 [==============================] - 43s 6s/step - loss: 0.2873 - accuracy: 0.8829\n",
            "6/6 [==============================] - 41s 6s/step\n",
            "Confusion Matrix:\n",
            "[[24 24]\n",
            " [29 34]]\n",
            "Precision: 0.5862068965517241\n",
            "Recall: 0.5396825396825397\n",
            "F-score: 0.5619834710743802\n"
          ]
        }
      ]
    }
  ]
}