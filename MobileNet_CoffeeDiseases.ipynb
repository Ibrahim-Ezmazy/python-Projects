{
  "cells": [
    {
      "cell_type": "markdown",
      "metadata": {
        "id": "view-in-github",
        "colab_type": "text"
      },
      "source": [
        "<a href=\"https://colab.research.google.com/github/Ibrahim-Ezmazy/python-Projects/blob/main/MobileNet_CoffeeDiseases.ipynb\" target=\"_parent\"><img src=\"https://colab.research.google.com/assets/colab-badge.svg\" alt=\"Open In Colab\"/></a>"
      ]
    },
    {
      "cell_type": "code",
      "execution_count": 1,
      "metadata": {
        "id": "LQsSx2sI429F"
      },
      "outputs": [],
      "source": [
        "import tensorflow as tf\n",
        "from tensorflow.keras.preprocessing.image import ImageDataGenerator\n",
        "from tensorflow.keras.applications import MobileNet\n",
        "from tensorflow.keras.layers import Dense, GlobalAveragePooling2D\n",
        "from tensorflow.keras.models import Model\n",
        "from sklearn.metrics import precision_score, recall_score, f1_score\n"
      ]
    },
    {
      "cell_type": "code",
      "execution_count": 2,
      "metadata": {
        "colab": {
          "base_uri": "https://localhost:8080/"
        },
        "id": "wfvfLWIG5aA1",
        "outputId": "4a1623c6-c261-43fa-88de-1de478a2c71d"
      },
      "outputs": [
        {
          "output_type": "stream",
          "name": "stdout",
          "text": [
            "Mounted at /content/drive\n"
          ]
        }
      ],
      "source": [
        "# Mount Google Drive if needed\n",
        "from google.colab import drive\n",
        "drive.mount('/content/drive')"
      ]
    },
    {
      "cell_type": "code",
      "source": [
        "import os\n",
        "import shutil\n",
        "import random\n",
        "\n",
        "# Define directories\n",
        "dataset_dir = \"/content/drive/MyDrive/dataset/data\"\n",
        "train_dir = \"/content/drive/MyDrive/training\"\n",
        "validation_dir = \"/content/drive/MyDrive/validation\"\n",
        "\n",
        "# Create directories if they don't exist\n",
        "os.makedirs(train_dir, exist_ok=True)\n",
        "os.makedirs(validation_dir, exist_ok=True)\n",
        "\n",
        "# Define the ratio of data to be used for validation\n",
        "validation_ratio = 0.2  # For example, 20% of the data for validation\n",
        "\n",
        "# List the classes in the dataset\n",
        "classes = os.listdir(dataset_dir)\n",
        "\n",
        "# Loop through each class\n",
        "for class_name in classes:\n",
        "    class_dir = os.path.join(dataset_dir, class_name)\n",
        "    files = os.listdir(class_dir)\n",
        "    random.shuffle(files)  # Shuffle the files to ensure randomness\n",
        "\n",
        "    # Calculate the number of samples for validation\n",
        "    num_validation_samples = int(len(files) * validation_ratio)\n",
        "\n",
        "    # Split the files into training and validation sets\n",
        "    validation_files = files[:num_validation_samples]\n",
        "    train_files = files[num_validation_samples:]\n",
        "\n",
        "    # Copy or move files to their respective directories\n",
        "    for file_name in validation_files:\n",
        "        source = os.path.join(class_dir, file_name)\n",
        "        destination = os.path.join(validation_dir, class_name, file_name)\n",
        "        os.makedirs(os.path.join(validation_dir, class_name), exist_ok=True)\n",
        "        shutil.copy(source, destination)  # Copy file to validation directory\n",
        "\n",
        "    for file_name in train_files:\n",
        "        source = os.path.join(class_dir, file_name)\n",
        "        destination = os.path.join(train_dir, class_name, file_name)\n",
        "        os.makedirs(os.path.join(train_dir, class_name), exist_ok=True)\n",
        "        shutil.copy(source, destination)  # Copy file to training directory\n"
      ],
      "metadata": {
        "id": "lbBvJDFLnRyz"
      },
      "execution_count": 11,
      "outputs": []
    },
    {
      "cell_type": "code",
      "execution_count": 12,
      "metadata": {
        "id": "Jc7M2zKJ43-9"
      },
      "outputs": [],
      "source": [
        "# Define image data generators\n",
        "train_datagen = ImageDataGenerator(rescale=1./255)\n",
        "val_datagen = ImageDataGenerator(rescale=1./255)\n",
        "\n",
        "# Path to your dataset folders\n",
        "train_data_dir = '/content/drive/MyDrive/training'\n",
        "val_data_dir = '/content/drive/MyDrive/validation'\n"
      ]
    },
    {
      "cell_type": "code",
      "execution_count": 13,
      "metadata": {
        "colab": {
          "base_uri": "https://localhost:8080/"
        },
        "id": "_vDaKkyz492k",
        "outputId": "a2f6463b-f70b-4a69-9737-8a8afddee901"
      },
      "outputs": [
        {
          "output_type": "stream",
          "name": "stdout",
          "text": [
            "Found 419 images belonging to 2 classes.\n",
            "Found 111 images belonging to 2 classes.\n"
          ]
        }
      ],
      "source": [
        "\n",
        "# Define constants\n",
        "batch_size = 20\n",
        "num_classes = 2\n",
        "epochs = 10\n",
        "\n",
        "# Create image generators\n",
        "train_generator = train_datagen.flow_from_directory(\n",
        "        train_data_dir,\n",
        "        target_size=(150, 150),  # MobileNet input size\n",
        "        batch_size=batch_size,\n",
        "        class_mode='categorical')\n",
        "\n",
        "validation_generator = val_datagen.flow_from_directory(\n",
        "        val_data_dir,\n",
        "        target_size=(150, 150),\n",
        "        batch_size=batch_size,\n",
        "        class_mode='categorical')"
      ]
    },
    {
      "cell_type": "code",
      "execution_count": 14,
      "metadata": {
        "colab": {
          "base_uri": "https://localhost:8080/"
        },
        "id": "GZ_iPImc5Aer",
        "outputId": "1e6adac5-4b84-4493-de3d-07cd1c26fb2f"
      },
      "outputs": [
        {
          "output_type": "stream",
          "name": "stderr",
          "text": [
            "WARNING:tensorflow:`input_shape` is undefined or non-square, or `rows` is not in [128, 160, 192, 224]. Weights for input shape (224, 224) will be loaded as the default.\n"
          ]
        }
      ],
      "source": [
        "# Load MobileNet model\n",
        "base_model = MobileNet(weights='imagenet', include_top=False)\n",
        "\n",
        "# Add custom layers on top of MobileNet\n",
        "x = base_model.output\n",
        "x = GlobalAveragePooling2D()(x)\n",
        "predictions = Dense(num_classes, activation='softmax')(x)\n",
        "\n",
        "# Model\n",
        "model = Model(inputs=base_model.input, outputs=predictions)\n",
        "\n",
        "# Freeze the layers in the base model\n",
        "for layer in base_model.layers:\n",
        "    layer.trainable = False\n",
        "\n",
        "# Compile the model\n",
        "model.compile(optimizer='adam', loss='categorical_crossentropy', metrics=['accuracy'])\n"
      ]
    },
    {
      "cell_type": "code",
      "execution_count": 15,
      "metadata": {
        "colab": {
          "base_uri": "https://localhost:8080/"
        },
        "id": "qfoSb4nA5GxT",
        "outputId": "8d343fb9-e0c8-41da-afe5-11a6701c93d8"
      },
      "outputs": [
        {
          "output_type": "stream",
          "name": "stdout",
          "text": [
            "Epoch 1/10\n",
            "20/20 [==============================] - 75s 4s/step - loss: 0.7300 - accuracy: 0.6717 - val_loss: 0.3481 - val_accuracy: 0.8300\n",
            "Epoch 2/10\n",
            "20/20 [==============================] - 61s 3s/step - loss: 0.1941 - accuracy: 0.9223 - val_loss: 0.2036 - val_accuracy: 0.9000\n",
            "Epoch 3/10\n",
            "20/20 [==============================] - 62s 3s/step - loss: 0.0965 - accuracy: 0.9674 - val_loss: 0.1634 - val_accuracy: 0.9500\n",
            "Epoch 4/10\n",
            "20/20 [==============================] - 67s 3s/step - loss: 0.0760 - accuracy: 0.9724 - val_loss: 0.1083 - val_accuracy: 0.9700\n",
            "Epoch 5/10\n",
            "20/20 [==============================] - 67s 3s/step - loss: 0.0507 - accuracy: 0.9875 - val_loss: 0.0939 - val_accuracy: 0.9800\n",
            "Epoch 6/10\n",
            "20/20 [==============================] - 67s 3s/step - loss: 0.0403 - accuracy: 0.9925 - val_loss: 0.0911 - val_accuracy: 0.9600\n",
            "Epoch 7/10\n",
            "20/20 [==============================] - 67s 3s/step - loss: 0.0337 - accuracy: 0.9975 - val_loss: 0.0806 - val_accuracy: 0.9700\n",
            "Epoch 8/10\n",
            "20/20 [==============================] - 67s 3s/step - loss: 0.0277 - accuracy: 1.0000 - val_loss: 0.0749 - val_accuracy: 0.9700\n",
            "Epoch 9/10\n",
            "20/20 [==============================] - 61s 3s/step - loss: 0.0241 - accuracy: 1.0000 - val_loss: 0.0725 - val_accuracy: 0.9800\n",
            "Epoch 10/10\n",
            "20/20 [==============================] - 67s 3s/step - loss: 0.0193 - accuracy: 1.0000 - val_loss: 0.0525 - val_accuracy: 0.9800\n"
          ]
        },
        {
          "output_type": "execute_result",
          "data": {
            "text/plain": [
              "<keras.src.callbacks.History at 0x78ff321de4d0>"
            ]
          },
          "metadata": {},
          "execution_count": 15
        }
      ],
      "source": [
        "\n",
        "# Train the model\n",
        "model.fit(\n",
        "    train_generator,\n",
        "    steps_per_epoch=train_generator.samples // batch_size,\n",
        "    epochs=epochs,\n",
        "    validation_data=validation_generator,\n",
        "    validation_steps=validation_generator.samples // batch_size\n",
        ")\n"
      ]
    },
    {
      "cell_type": "code",
      "execution_count": 16,
      "metadata": {
        "colab": {
          "base_uri": "https://localhost:8080/"
        },
        "id": "k-pwWN9i5I0z",
        "outputId": "f2218b99-9d4c-46f2-bb18-6aa9d2d5ebce"
      },
      "outputs": [
        {
          "output_type": "stream",
          "name": "stdout",
          "text": [
            "6/6 [==============================] - 13s 2s/step - loss: 0.0692 - accuracy: 0.9730\n",
            "Test Accuracy: 0.9729729890823364\n"
          ]
        }
      ],
      "source": [
        "# Evaluate the model\n",
        "evaluation = model.evaluate(validation_generator)\n",
        "print(\"Test Accuracy:\", evaluation[1])"
      ]
    },
    {
      "cell_type": "code",
      "execution_count": 17,
      "metadata": {
        "id": "RXc0i9Dt4uL6",
        "colab": {
          "base_uri": "https://localhost:8080/"
        },
        "outputId": "6edd62a5-d82c-4836-a39d-296e28422a9a"
      },
      "outputs": [
        {
          "output_type": "stream",
          "name": "stdout",
          "text": [
            "6/6 [==============================] - 14s 2s/step\n",
            "Precision: 0.5625\n",
            "Recall: 0.5714285714285714\n",
            "F-score: 0.5669291338582677\n"
          ]
        }
      ],
      "source": [
        "# Calculate predictions\n",
        "validation_generator.reset()  # Reset the generator to avoid shuffling issues\n",
        "y_pred = model.predict(validation_generator)\n",
        "y_true = validation_generator.classes\n",
        "\n",
        "# Convert predictions to class labels\n",
        "y_pred_classes = tf.argmax(y_pred, axis=1)\n",
        "\n",
        "# Calculate precision, recall, and F-score\n",
        "precision = precision_score(y_true, y_pred_classes)\n",
        "recall = recall_score(y_true, y_pred_classes)\n",
        "f_score = f1_score(y_true, y_pred_classes)\n",
        "\n",
        "print(\"Precision:\", precision)\n",
        "print(\"Recall:\", recall)\n",
        "print(\"F-score:\", f_score)\n"
      ]
    },
    {
      "cell_type": "code",
      "source": [
        "from sklearn.metrics import confusion_matrix\n",
        "conf_matrix = confusion_matrix(y_true, y_pred_classes)\n",
        "print(\"Confusion Matrix:\")\n",
        "print(conf_matrix)"
      ],
      "metadata": {
        "colab": {
          "base_uri": "https://localhost:8080/"
        },
        "id": "e4VpYuywrx65",
        "outputId": "8332a938-c1ff-4ac8-b6cf-f03e62c00050"
      },
      "execution_count": 19,
      "outputs": [
        {
          "output_type": "stream",
          "name": "stdout",
          "text": [
            "Confusion Matrix:\n",
            "[[20 28]\n",
            " [27 36]]\n"
          ]
        }
      ]
    }
  ],
  "metadata": {
    "colab": {
      "provenance": [],
      "authorship_tag": "ABX9TyPuQhqBwhYf+IL0+Tv6B6EZ",
      "include_colab_link": true
    },
    "kernelspec": {
      "display_name": "Python 3",
      "name": "python3"
    },
    "language_info": {
      "name": "python"
    }
  },
  "nbformat": 4,
  "nbformat_minor": 0
}