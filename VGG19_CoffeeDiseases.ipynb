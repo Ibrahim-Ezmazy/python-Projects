{
  "nbformat": 4,
  "nbformat_minor": 0,
  "metadata": {
    "colab": {
      "provenance": [],
      "authorship_tag": "ABX9TyNC81gOd8w3SBpHDGSueasX",
      "include_colab_link": true
    },
    "kernelspec": {
      "name": "python3",
      "display_name": "Python 3"
    },
    "language_info": {
      "name": "python"
    }
  },
  "cells": [
    {
      "cell_type": "markdown",
      "metadata": {
        "id": "view-in-github",
        "colab_type": "text"
      },
      "source": [
        "<a href=\"https://colab.research.google.com/github/Ibrahim-Ezmazy/python-Projects/blob/main/VGG19_CoffeeDiseases.ipynb\" target=\"_parent\"><img src=\"https://colab.research.google.com/assets/colab-badge.svg\" alt=\"Open In Colab\"/></a>"
      ]
    },
    {
      "cell_type": "code",
      "source": [
        "import numpy as np\n",
        "import tensorflow as tf\n",
        "from tensorflow.keras.applications import VGG19\n",
        "from tensorflow.keras.models import Model\n",
        "from tensorflow.keras.layers import Dense, Flatten, Dropout\n",
        "from tensorflow.keras.optimizers import Adam\n",
        "from sklearn.metrics import confusion_matrix, precision_score, recall_score, f1_score\n"
      ],
      "metadata": {
        "id": "hYKG1HRNUcay"
      },
      "execution_count": 1,
      "outputs": []
    },
    {
      "cell_type": "code",
      "execution_count": 2,
      "metadata": {
        "colab": {
          "base_uri": "https://localhost:8080/"
        },
        "id": "Tzr444hmUKbb",
        "outputId": "edfa0047-a148-4864-99d7-7ee094feeea3"
      },
      "outputs": [
        {
          "output_type": "stream",
          "name": "stdout",
          "text": [
            "Mounted at /content/drive\n"
          ]
        }
      ],
      "source": [
        "# Mount Google Drive if needed\n",
        "from google.colab import drive\n",
        "drive.mount('/content/drive')"
      ]
    },
    {
      "cell_type": "code",
      "source": [
        "\n",
        "# Load VGG19 model with pre-trained weights\n",
        "base_model = VGG19(weights='imagenet', include_top=False, input_shape=(150, 150, 3))\n",
        "\n",
        "# Freeze the layers of the pre-trained model\n",
        "for layer in base_model.layers:\n",
        "    layer.trainable = False\n",
        "\n",
        "# Add custom classification layers on top\n",
        "x = Flatten()(base_model.output)\n",
        "x = Dense(256, activation='relu')(x)\n",
        "x = Dropout(0.5)(x)\n",
        "output = Dense(2, activation='softmax')(x)\n",
        "\n",
        "# Create the model\n",
        "model = Model(inputs=base_model.input, outputs=output)\n",
        "\n",
        "# Compile the model\n",
        "model.compile(optimizer=Adam(), loss='categorical_crossentropy', metrics=['accuracy'])\n",
        "\n",
        "# Define image data generators\n",
        "train_datagen = tf.keras.preprocessing.image.ImageDataGenerator(\n",
        "    rescale=1./255,\n",
        "    shear_range=0.2,\n",
        "    zoom_range=0.2,\n",
        "    horizontal_flip=True)\n",
        "\n",
        "val_datagen = tf.keras.preprocessing.image.ImageDataGenerator(rescale=1./255)\n",
        "\n",
        "# Set the batch size\n",
        "batch_size = 20\n"
      ],
      "metadata": {
        "colab": {
          "base_uri": "https://localhost:8080/"
        },
        "id": "nLBQOejVkO14",
        "outputId": "6f9b74bb-a3b5-436f-8a0f-4c02dc11a52e"
      },
      "execution_count": 3,
      "outputs": [
        {
          "output_type": "stream",
          "name": "stdout",
          "text": [
            "Downloading data from https://storage.googleapis.com/tensorflow/keras-applications/vgg19/vgg19_weights_tf_dim_ordering_tf_kernels_notop.h5\n",
            "80134624/80134624 [==============================] - 0s 0us/step\n"
          ]
        }
      ]
    },
    {
      "cell_type": "code",
      "source": [
        "\n",
        "# Load and augment training data\n",
        "train_generator = train_datagen.flow_from_directory(\n",
        "    '/content/drive/MyDrive/training',\n",
        "    target_size=(150, 150),\n",
        "    batch_size=batch_size,\n",
        "    class_mode='categorical')\n",
        "\n",
        "# Load validation data\n",
        "val_generator = val_datagen.flow_from_directory(\n",
        "    '/content/drive/MyDrive/validation',\n",
        "    target_size=(150, 150),\n",
        "    batch_size=batch_size,\n",
        "    class_mode='categorical')\n"
      ],
      "metadata": {
        "colab": {
          "base_uri": "https://localhost:8080/"
        },
        "id": "oVgI2xQakScw",
        "outputId": "20e0d33a-2a2a-4c52-c50a-2cb4ec59adee"
      },
      "execution_count": 4,
      "outputs": [
        {
          "output_type": "stream",
          "name": "stdout",
          "text": [
            "Found 419 images belonging to 2 classes.\n",
            "Found 111 images belonging to 2 classes.\n"
          ]
        }
      ]
    },
    {
      "cell_type": "code",
      "source": [
        "\n",
        "# Train the model\n",
        "history = model.fit(\n",
        "    train_generator,\n",
        "    steps_per_epoch=train_generator.samples // batch_size,\n",
        "    epochs=10,\n",
        "    validation_data=val_generator,\n",
        "    validation_steps=val_generator.samples // batch_size)\n"
      ],
      "metadata": {
        "colab": {
          "base_uri": "https://localhost:8080/"
        },
        "id": "B9oYGaibkcQj",
        "outputId": "66140c7e-62bb-45cc-d453-bb5ceca38a7b"
      },
      "execution_count": 7,
      "outputs": [
        {
          "output_type": "stream",
          "name": "stdout",
          "text": [
            "Epoch 1/10\n",
            "20/20 [==============================] - 237s 12s/step - loss: 0.1075 - accuracy: 0.9575 - val_loss: 0.0943 - val_accuracy: 0.9300\n",
            "Epoch 2/10\n",
            "20/20 [==============================] - 217s 11s/step - loss: 0.1194 - accuracy: 0.9574 - val_loss: 0.1084 - val_accuracy: 0.9500\n",
            "Epoch 3/10\n",
            "20/20 [==============================] - 253s 13s/step - loss: 0.0817 - accuracy: 0.9749 - val_loss: 0.0891 - val_accuracy: 0.9400\n",
            "Epoch 4/10\n",
            "20/20 [==============================] - 262s 13s/step - loss: 0.0786 - accuracy: 0.9649 - val_loss: 0.0946 - val_accuracy: 0.9400\n",
            "Epoch 5/10\n",
            "20/20 [==============================] - 256s 13s/step - loss: 0.0907 - accuracy: 0.9724 - val_loss: 0.1044 - val_accuracy: 0.9400\n",
            "Epoch 6/10\n",
            "20/20 [==============================] - 266s 13s/step - loss: 0.0854 - accuracy: 0.9724 - val_loss: 0.1043 - val_accuracy: 0.9400\n",
            "Epoch 7/10\n",
            "20/20 [==============================] - 255s 13s/step - loss: 0.0634 - accuracy: 0.9850 - val_loss: 0.0830 - val_accuracy: 0.9700\n",
            "Epoch 8/10\n",
            "20/20 [==============================] - 215s 11s/step - loss: 0.0638 - accuracy: 0.9774 - val_loss: 0.1286 - val_accuracy: 0.9500\n",
            "Epoch 9/10\n",
            "20/20 [==============================] - 256s 13s/step - loss: 0.0807 - accuracy: 0.9774 - val_loss: 0.0944 - val_accuracy: 0.9500\n",
            "Epoch 10/10\n",
            "20/20 [==============================] - 254s 13s/step - loss: 0.0686 - accuracy: 0.9875 - val_loss: 0.0900 - val_accuracy: 0.9500\n"
          ]
        }
      ]
    },
    {
      "cell_type": "code",
      "source": [
        "\n",
        "# Evaluate the model\n",
        "val_loss, val_accuracy = model.evaluate(val_generator)\n",
        "print(\"Validation Accuracy:\", val_accuracy)\n",
        "\n",
        "# Get predictions\n",
        "val_generator.reset()\n",
        "y_pred = model.predict(val_generator)\n",
        "y_true = val_generator.classes\n",
        "\n",
        "# Convert predictions to class labels\n",
        "y_pred_classes = np.argmax(y_pred, axis=1)\n",
        "\n",
        "# Calculate confusion matrix\n",
        "conf_matrix = confusion_matrix(y_true, y_pred_classes)\n",
        "print(\"Confusion Matrix:\")\n",
        "print(conf_matrix)\n",
        "\n",
        "# Calculate precision, recall, and F-score\n",
        "precision = precision_score(y_true, y_pred_classes)\n",
        "recall = recall_score(y_true, y_pred_classes)\n",
        "f_score = f1_score(y_true, y_pred_classes)\n",
        "\n",
        "print(\"Precision:\", precision)\n",
        "print(\"Recall:\", recall)\n",
        "print(\"F-score:\", f_score)\n"
      ],
      "metadata": {
        "colab": {
          "base_uri": "https://localhost:8080/"
        },
        "id": "JjuBSrNDkCUx",
        "outputId": "04d35956-b621-499d-8880-4e2e19399e50"
      },
      "execution_count": 8,
      "outputs": [
        {
          "output_type": "stream",
          "name": "stdout",
          "text": [
            "6/6 [==============================] - 47s 7s/step - loss: 0.0860 - accuracy: 0.9550\n",
            "Validation Accuracy: 0.954954981803894\n",
            "6/6 [==============================] - 47s 7s/step\n",
            "Confusion Matrix:\n",
            "[[26 22]\n",
            " [19 44]]\n",
            "Precision: 0.6666666666666666\n",
            "Recall: 0.6984126984126984\n",
            "F-score: 0.6821705426356589\n"
          ]
        }
      ]
    }
  ]
}